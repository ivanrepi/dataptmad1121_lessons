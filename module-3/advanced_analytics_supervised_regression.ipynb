{
 "cells": [
  {
   "cell_type": "markdown",
   "id": "b3caf052",
   "metadata": {},
   "source": [
    "\n",
    "# ML Workflow - Supervised Learning (Regression)\n",
    "\n",
    "![Image](./img/scikit_learn.png)\n"
   ]
  },
  {
   "cell_type": "code",
   "execution_count": null,
   "id": "de0334af",
   "metadata": {},
   "outputs": [],
   "source": [
    "# imports \n",
    "\n",
    "import numpy as np\n",
    "import pandas as pd\n",
    "import matplotlib.pyplot as plt\n",
    "\n",
    "from sklearn import datasets\n",
    "from sklearn.datasets import make_regression\n",
    "from sklearn.model_selection import train_test_split\n",
    "import pickle\n",
    "import joblib\n",
    "\n",
    "from sklearn import linear_model\n",
    "from sklearn.linear_model import ElasticNet\n",
    "from sklearn.linear_model import Ridge\n",
    "from sklearn.svm import SVR\n",
    "from sklearn.linear_model import SGDRegressor\n",
    "from sklearn.linear_model import LinearRegression"
   ]
  },
  {
   "cell_type": "markdown",
   "id": "e5b2b413",
   "metadata": {},
   "source": [
    "## [Train-Test-Split](https://scikit-learn.org/stable/modules/generated/sklearn.model_selection.train_test_split.html)\n",
    "\n",
    "![Image](./img/train_valid_test.JPG)"
   ]
  },
  {
   "cell_type": "code",
   "execution_count": null,
   "id": "21500855",
   "metadata": {},
   "outputs": [],
   "source": [
    "# Load datasets\n",
    "\n",
    "X, y = make_regression(n_samples=1000, n_features=10, random_state=42)\n",
    "#X, y = datasets.load_diabetes(return_X_y=True)\n",
    "print(X.shape, y.shape)"
   ]
  },
  {
   "cell_type": "code",
   "execution_count": null,
   "id": "db54f7c1",
   "metadata": {},
   "outputs": [],
   "source": [
    "# Train and test\n",
    "\n",
    "X_train, X_test, y_train, y_test = train_test_split(X, y, test_size=0.2, random_state=42)\n",
    "print(f\"X_train: {X_train.shape}, X_test: {X_test.shape}, y_train: {y_train.shape}, y_test: {y_test.shape}\")\n",
    "#print(f\"X_train: {type(X_train)}, X_test: {type(X_test)}, y_train: {type(y_train)}, y_test: {type(y_test)}\")"
   ]
  },
  {
   "cell_type": "markdown",
   "id": "294733a5",
   "metadata": {},
   "source": [
    "---"
   ]
  },
  {
   "cell_type": "markdown",
   "id": "6010a4f4",
   "metadata": {},
   "source": [
    "## [Model Selection](https://scikit-learn.org/stable/supervised_learning.html)\n",
    "\n",
    "![Image](./img/ml_map_regression.JPG)\n",
    "\n",
    "[See full map](https://scikit-learn.org/stable/tutorial/machine_learning_map/index.html)"
   ]
  },
  {
   "cell_type": "markdown",
   "id": "ebe3d5b0",
   "metadata": {},
   "source": [
    "---"
   ]
  },
  {
   "cell_type": "markdown",
   "id": "4d6d6aed",
   "metadata": {},
   "source": [
    "### Regression Estimators\n",
    "\n",
    "- [Lasso](https://scikit-learn.org/stable/modules/generated/sklearn.linear_model.Lasso.html)\n",
    "\n",
    "- [ElasticNet](https://scikit-learn.org/stable/modules/generated/sklearn.linear_model.ElasticNet.html)\n",
    "\n",
    "- [Ridge Regression](https://scikit-learn.org/stable/modules/generated/sklearn.linear_model.Ridge.html)\n",
    "\n",
    "- [SVR](https://scikit-learn.org/stable/modules/generated/sklearn.svm.SVR.html)\n",
    "\n",
    "- [SGD Regressor](https://scikit-learn.org/stable/modules/generated/sklearn.linear_model.SGDRegressor.html)\n",
    "\n",
    "- [Linear Regression](https://scikit-learn.org/stable/modules/generated/sklearn.linear_model.LinearRegression.html)"
   ]
  },
  {
   "cell_type": "code",
   "execution_count": null,
   "id": "7750ad5d",
   "metadata": {},
   "outputs": [],
   "source": [
    "%%time\n",
    "\n",
    "# Model definition\n",
    "\n",
    "model = linear_model.Lasso()\n",
    "#model = ElasticNet()\n",
    "#model = Ridge()\n",
    "#model = SVR()\n",
    "#model = SGDRegressor()\n",
    "#model = LinearRegression()\n",
    "\n",
    "hyperparameters = model.get_params()\n",
    "\n",
    "print(type(model), '\\n')\n",
    "print('Model hyperparameters:', hyperparameters, '\\n')"
   ]
  },
  {
   "cell_type": "code",
   "execution_count": null,
   "id": "9c59e743",
   "metadata": {},
   "outputs": [],
   "source": [
    "%%time\n",
    "\n",
    "# Model training\n",
    "\n",
    "model.fit(X_train, y_train)\n",
    "\n",
    "print('Model:', model, '\\n')\n",
    "print('Model hyperparameters:', hyperparameters, '\\n')\n",
    "print('Model coefficients:', model.coef_, '\\n')"
   ]
  },
  {
   "cell_type": "code",
   "execution_count": null,
   "id": "2b33e2fe",
   "metadata": {},
   "outputs": [],
   "source": [
    "%%time\n",
    "\n",
    "# Model predictions\n",
    "\n",
    "predictions = model.predict(X_test)\n",
    "\n",
    "print(type(predictions))"
   ]
  },
  {
   "cell_type": "code",
   "execution_count": null,
   "id": "6eb635f3",
   "metadata": {},
   "outputs": [],
   "source": [
    "# Visual check\n",
    "\n",
    "check = pd.DataFrame({'Ground truth':y_test, 'Predictions':predictions, 'Diff':y_test-predictions})\n",
    "check"
   ]
  },
  {
   "cell_type": "code",
   "execution_count": null,
   "id": "b3bc81dc",
   "metadata": {},
   "outputs": [],
   "source": [
    "check.reset_index(inplace=True)\n",
    "\n",
    "check.plot(x='index', y=['Ground truth', 'Predictions'], kind='line', figsize=(15, 10));"
   ]
  },
  {
   "cell_type": "markdown",
   "id": "9dc1f289",
   "metadata": {},
   "source": [
    "---"
   ]
  },
  {
   "cell_type": "markdown",
   "id": "93f23d9c",
   "metadata": {},
   "source": [
    "### Model persistence\n",
    "\n",
    "- __pickle.__ Serialize your machine learning algorithms and save (and later load) the serialized format to a file.\n",
    "\n",
    "- __joblib.__ Saving and loading Python objects that make use of NumPy data structures, efficiently. Better options for machine learning algorithms that require a lot of parameters or store the entire dataset (like K-Nearest Neighbors)."
   ]
  },
  {
   "cell_type": "code",
   "execution_count": null,
   "id": "efc0d4c4",
   "metadata": {},
   "outputs": [],
   "source": [
    "# Save model using pickle\n",
    "\n",
    "filename = './models/linearregression_001.sav'\n",
    "pickle.dump(model, open(filename, 'wb'))\n",
    "print('Your model has been saved with  pickle!!!')"
   ]
  },
  {
   "cell_type": "code",
   "execution_count": null,
   "id": "b031c312",
   "metadata": {},
   "outputs": [],
   "source": [
    "# Load model using pickle\n",
    "\n",
    "filename = './models/linearregression_001.sav'\n",
    "loaded_model = pickle.load(open(filename, 'rb'))\n",
    "print('Model coefficients:', model.coef_, '\\n')\n",
    "print('Loaded model coefficients:', loaded_model.coef_)"
   ]
  },
  {
   "cell_type": "code",
   "execution_count": null,
   "id": "a25a7057",
   "metadata": {},
   "outputs": [],
   "source": [
    "# Save model using joblib\n",
    "\n",
    "filename = './models/linearregression_002.sav'\n",
    "joblib.dump(model, filename)\n",
    "print('Your model has been saved with joblib!!!')"
   ]
  },
  {
   "cell_type": "code",
   "execution_count": null,
   "id": "301bcb75",
   "metadata": {},
   "outputs": [],
   "source": [
    "# Load model using joblib\n",
    "\n",
    "filename = './models/linearregression_002.sav'\n",
    "loaded_model = joblib.load(filename)\n",
    "print('Model coefficients:', model.coef_, '\\n')\n",
    "print('Loaded model coefficients:', loaded_model.coef_)"
   ]
  }
 ],
 "metadata": {
  "kernelspec": {
   "display_name": "Python [conda env:.conda-sklearn-env]",
   "language": "python",
   "name": "conda-env-.conda-sklearn-env-py"
  },
  "language_info": {
   "codemirror_mode": {
    "name": "ipython",
    "version": 3
   },
   "file_extension": ".py",
   "mimetype": "text/x-python",
   "name": "python",
   "nbconvert_exporter": "python",
   "pygments_lexer": "ipython3",
   "version": "3.10.2"
  }
 },
 "nbformat": 4,
 "nbformat_minor": 5
}
