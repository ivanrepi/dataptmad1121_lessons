{
 "cells": [
  {
   "cell_type": "markdown",
   "id": "f680efe9",
   "metadata": {},
   "source": [
    "# ML Workflow - Supervised Learning (Classification)\n",
    "\n",
    "![Image](./img/scikit_learn.png)\n"
   ]
  },
  {
   "cell_type": "code",
   "execution_count": null,
   "id": "75ecbc68",
   "metadata": {},
   "outputs": [],
   "source": [
    "# imports \n",
    "\n",
    "import numpy as np\n",
    "import pandas as pd\n",
    "import matplotlib.pyplot as plt\n",
    "import seaborn as sns\n",
    "\n",
    "from sklearn import datasets\n",
    "from sklearn.datasets import make_classification\n",
    "from sklearn.model_selection import train_test_split\n",
    "\n",
    "from sklearn.linear_model import SGDClassifier\n",
    "from sklearn.svm import SVC\n",
    "from sklearn.tree import DecisionTreeClassifier\n",
    "\n",
    "from sklearn.metrics import accuracy_score\n",
    "from sklearn.metrics import confusion_matrix\n",
    "from sklearn.metrics import precision_score\n",
    "from sklearn.metrics import recall_score\n",
    "from sklearn.metrics import f1_score\n",
    "from sklearn.metrics import roc_auc_score"
   ]
  },
  {
   "cell_type": "markdown",
   "id": "75f8d51c",
   "metadata": {},
   "source": [
    "---"
   ]
  },
  {
   "cell_type": "markdown",
   "id": "18ac4aa8",
   "metadata": {},
   "source": [
    "## The Classification Problem\n",
    "\n",
    "- One-Class Classification\n",
    "\n",
    "- Multiclass Classification\n",
    "\n",
    "- Multilabel Classification (also known as Multioutput Classification, but not exactly the same)\n",
    "\n",
    "- Multitask Classification (also known as Multiclass-multioutput classification)\n",
    "\n",
    "![Image](./img/classification_problem.png)"
   ]
  },
  {
   "cell_type": "markdown",
   "id": "7994b792",
   "metadata": {},
   "source": [
    "---"
   ]
  },
  {
   "cell_type": "markdown",
   "id": "760bb85b",
   "metadata": {},
   "source": [
    "## One-Class Classification\n",
    "\n",
    "- [SGDClassifier](https://scikit-learn.org/stable/modules/generated/sklearn.linear_model.SGDClassifier.html)\n",
    "\n",
    "- [SVC](https://scikit-learn.org/stable/modules/generated/sklearn.svm.SVC.html)\n",
    "\n",
    "- [DecisionTreeClassifier](https://scikit-learn.org/stable/modules/generated/sklearn.tree.DecisionTreeClassifier.html)"
   ]
  },
  {
   "cell_type": "code",
   "execution_count": null,
   "id": "1d4d6e42",
   "metadata": {},
   "outputs": [],
   "source": [
    "#Load toy dataset\n",
    "\n",
    "cancer = datasets.load_breast_cancer(as_frame=True)\n",
    "description = cancer.DESCR\n",
    "\n",
    "cancer = cancer['data'].merge(cancer['target'], left_index=True, right_index=True)\n",
    "cancer"
   ]
  },
  {
   "cell_type": "code",
   "execution_count": null,
   "id": "38fce5df",
   "metadata": {},
   "outputs": [],
   "source": [
    "print(description)"
   ]
  },
  {
   "cell_type": "code",
   "execution_count": null,
   "id": "ae2c6e23",
   "metadata": {},
   "outputs": [],
   "source": [
    "# Load synthetic dataset\n",
    "\n",
    "X, y = datasets.load_breast_cancer(return_X_y=True)\n",
    "#X, y = make_classification(n_samples=1000, n_features=10, random_state=42)\n",
    "print(X.shape, y.shape)"
   ]
  },
  {
   "cell_type": "code",
   "execution_count": null,
   "id": "653dd19f",
   "metadata": {},
   "outputs": [],
   "source": [
    "# Train and validation sets\n",
    "\n",
    "X_train, X_test, y_train, y_test = train_test_split(X, y, test_size=0.2, random_state=42)\n",
    "print(f\"X_train: {X_train.shape}, X_test: {X_test.shape}, y_train: {y_train.shape}, y_test: {y_test.shape}\")\n",
    "print(f\"X_train: {type(X_train)}, X_test: {type(X_test)}, y_train: {type(y_train)}, y_test: {type(y_test)}\")"
   ]
  },
  {
   "cell_type": "code",
   "execution_count": null,
   "id": "f7277e66",
   "metadata": {},
   "outputs": [],
   "source": [
    "%%time\n",
    "\n",
    "# Model definition\n",
    "\n",
    "model = SGDClassifier()\n",
    "#model = SVC()\n",
    "#model = DecisionTreeClassifier()\n",
    "\n",
    "hyperparameters = model.get_params()\n",
    "\n",
    "print(type(model), '\\n')\n",
    "print('Model hyperparameters:', hyperparameters, '\\n')"
   ]
  },
  {
   "cell_type": "code",
   "execution_count": null,
   "id": "581e3643",
   "metadata": {},
   "outputs": [],
   "source": [
    "%%time\n",
    "\n",
    "# Model training\n",
    "\n",
    "model.fit(X_train, y_train)\n",
    "\n",
    "print('Model:', model, '\\n')\n",
    "print('Model hyperparameters:', hyperparameters, '\\n')"
   ]
  },
  {
   "cell_type": "code",
   "execution_count": null,
   "id": "7bc1c8ff",
   "metadata": {},
   "outputs": [],
   "source": [
    "%%time\n",
    "\n",
    "# Model predictions\n",
    "\n",
    "predictions = model.predict(X_test)\n",
    "\n",
    "print(type(predictions))"
   ]
  },
  {
   "cell_type": "code",
   "execution_count": null,
   "id": "ce81bbbc",
   "metadata": {},
   "outputs": [],
   "source": [
    "predictions"
   ]
  },
  {
   "cell_type": "code",
   "execution_count": null,
   "id": "c1969330",
   "metadata": {},
   "outputs": [],
   "source": [
    "# Visual check\n",
    "\n",
    "check = pd.DataFrame({'Ground truth':y_test, 'Predictions':predictions, 'Diff':y_test-predictions})\n",
    "check.tail(20)"
   ]
  },
  {
   "cell_type": "markdown",
   "id": "18c303ac",
   "metadata": {},
   "source": [
    "__Accuracy__"
   ]
  },
  {
   "cell_type": "code",
   "execution_count": null,
   "id": "11a9c3f4",
   "metadata": {},
   "outputs": [],
   "source": [
    "model.score(X_test, y_test)"
   ]
  },
  {
   "cell_type": "code",
   "execution_count": null,
   "id": "c28c6722",
   "metadata": {},
   "outputs": [],
   "source": [
    "accuracy_score(y_test, predictions)"
   ]
  },
  {
   "cell_type": "code",
   "execution_count": null,
   "id": "8735aa22",
   "metadata": {},
   "outputs": [],
   "source": [
    "accuracy_score(y_test, predictions, normalize=False)"
   ]
  },
  {
   "cell_type": "markdown",
   "id": "6bbee20c",
   "metadata": {},
   "source": [
    "---"
   ]
  },
  {
   "cell_type": "markdown",
   "id": "473eaea6",
   "metadata": {},
   "source": [
    "### Classification Metrics Definitions\n",
    "\n",
    "![Image](./img/confusion_matrix_.JPG)\n",
    "\n",
    "- TP = True Positives (predict 1 when 1)\n",
    "\n",
    "- TN = True Negatives (predict 0 when 0)\n",
    "\n",
    "- FP = False Positives (predict 1 when 0)\n",
    "\n",
    "- FN = False Negatives (predict 0 when 1)\n",
    "\n",
    "---\n",
    "\n",
    "\n",
    "![Image](./img/precision_recall_f1.jpg)\n",
    "\n",
    "- Accuracy = (TP+TN)/(TP+TN+FP+FN)\n",
    "\n",
    "- Precision = TP/(TP+FP)\n",
    "\n",
    "- Recall = TP/(TP+FN)\n",
    "\n",
    "- F1 = 2 * (Precision * Recall) / (Precision + Recall)"
   ]
  },
  {
   "cell_type": "code",
   "execution_count": null,
   "id": "345bc716",
   "metadata": {},
   "outputs": [],
   "source": [
    "# Precision\n",
    "\n",
    "precision_score(y_test, predictions)"
   ]
  },
  {
   "cell_type": "code",
   "execution_count": null,
   "id": "d85f10f3",
   "metadata": {},
   "outputs": [],
   "source": [
    "# Recall\n",
    "\n",
    "recall_score(y_test, predictions)"
   ]
  },
  {
   "cell_type": "markdown",
   "id": "1e5ed600",
   "metadata": {},
   "source": [
    "__F-Score__ is the [harmonic mean](https://en.wikipedia.org/wiki/Harmonic_mean) between Precision and Recall"
   ]
  },
  {
   "cell_type": "code",
   "execution_count": null,
   "id": "de68312b",
   "metadata": {},
   "outputs": [],
   "source": [
    "f1_score(y_test, predictions)"
   ]
  },
  {
   "cell_type": "markdown",
   "id": "70144058",
   "metadata": {},
   "source": [
    "__Confusion Matrix__"
   ]
  },
  {
   "cell_type": "code",
   "execution_count": null,
   "id": "82190f1b",
   "metadata": {},
   "outputs": [],
   "source": [
    "confusion_matrix(y_test, predictions)"
   ]
  },
  {
   "cell_type": "code",
   "execution_count": null,
   "id": "80b62568",
   "metadata": {
    "scrolled": false
   },
   "outputs": [],
   "source": [
    "fig, ax = plt.subplots(ncols=1, nrows=1, figsize=(13,8))\n",
    "ax = sns.heatmap(confusion_matrix(y_test, predictions), annot=True)\n",
    "b, t = ax.get_ylim()\n",
    "ax.set_ylim(b + 0.5, t - 0.5)\n",
    "plt.title('Confussion Matrix')\n",
    "plt.ylabel('Ground Truth')\n",
    "plt.xlabel('Prediction')\n",
    "plt.show();"
   ]
  },
  {
   "cell_type": "markdown",
   "id": "94847d94",
   "metadata": {},
   "source": [
    "__Receiver Operating Characteristics Curve__\n",
    "\n",
    "It tells how much the model is capable of distinguishing between classes.\n",
    "\n",
    "![Image](./img/roc_curve.JPG)\n",
    "\n",
    "\n",
    "- __TPR__ = True Positive Rate = __TP/(TP+FN)__\n",
    "\n",
    "- Specificity = TN/(TN+FP)\n",
    "\n",
    "- __FPR__ = False Positive Rate = 1 - Specificity = __FP/(FP+TN)__"
   ]
  },
  {
   "cell_type": "code",
   "execution_count": null,
   "id": "de356647",
   "metadata": {},
   "outputs": [],
   "source": [
    "# Area under the curve (AUC)\n",
    "\n",
    "roc_auc_score(y_test, predictions)"
   ]
  },
  {
   "cell_type": "markdown",
   "id": "6b81f437",
   "metadata": {},
   "source": [
    "__ROC Curve Interpretation__\n",
    "\n",
    "The ROC is a curve of probability, therefore we can use the distributions of those probabilities to interpret the meaning of it.\n"
   ]
  },
  {
   "cell_type": "markdown",
   "id": "b0ecb423",
   "metadata": {},
   "source": [
    "__Perfect Classifier:__\n",
    "\n",
    "![Image](./img/roc_01.JPG)"
   ]
  },
  {
   "cell_type": "markdown",
   "id": "d219fa6e",
   "metadata": {},
   "source": [
    "__Real World Classifier:__\n",
    "\n",
    "![Image](./img/roc_02.JPG)"
   ]
  },
  {
   "cell_type": "markdown",
   "id": "402ea465",
   "metadata": {},
   "source": [
    "__Random Classifier:__\n",
    "\n",
    "![Image](./img/roc_03.JPG)"
   ]
  },
  {
   "cell_type": "markdown",
   "id": "4a8daab3",
   "metadata": {},
   "source": [
    "__Reciprocating the classes:__\n",
    "\n",
    "![Image](./img/roc_04.JPG)"
   ]
  },
  {
   "cell_type": "markdown",
   "id": "b26949df",
   "metadata": {},
   "source": [
    "---"
   ]
  }
 ],
 "metadata": {
  "kernelspec": {
   "display_name": "Python [conda env:.conda-sklearn-env]",
   "language": "python",
   "name": "conda-env-.conda-sklearn-env-py"
  },
  "language_info": {
   "codemirror_mode": {
    "name": "ipython",
    "version": 3
   },
   "file_extension": ".py",
   "mimetype": "text/x-python",
   "name": "python",
   "nbconvert_exporter": "python",
   "pygments_lexer": "ipython3",
   "version": "3.10.2"
  }
 },
 "nbformat": 4,
 "nbformat_minor": 5
}
