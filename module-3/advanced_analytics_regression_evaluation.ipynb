{
 "cells": [
  {
   "cell_type": "markdown",
   "id": "f112a252",
   "metadata": {},
   "source": [
    "# ML Workflow - Error evaluation (Regression)\n",
    "\n",
    "![Image](./img/scikit_learn.png)"
   ]
  },
  {
   "cell_type": "code",
   "execution_count": null,
   "id": "0610d4d8",
   "metadata": {},
   "outputs": [],
   "source": [
    "# imports\n",
    "\n",
    "import numpy as np\n",
    "import pandas as pd\n",
    "import matplotlib.pyplot as plt\n",
    "\n",
    "from sklearn import datasets\n",
    "from sklearn.datasets import make_regression\n",
    "from sklearn.model_selection import train_test_split\n",
    "import pickle\n",
    "import joblib\n",
    "\n",
    "from sklearn.linear_model import LinearRegression\n",
    "from sklearn.ensemble import RandomForestRegressor\n",
    "\n",
    "from sklearn.metrics import mean_squared_error\n",
    "from sklearn.metrics import r2_score"
   ]
  },
  {
   "cell_type": "code",
   "execution_count": null,
   "id": "1309fde4",
   "metadata": {},
   "outputs": [],
   "source": [
    "# Housing dataset\n",
    "\n",
    "housing = datasets.fetch_california_housing(as_frame=True)\n",
    "description = housing.DESCR\n",
    "\n",
    "housing = housing['data'].merge(housing['target'], left_index=True, right_index=True)\n",
    "housing"
   ]
  },
  {
   "cell_type": "code",
   "execution_count": null,
   "id": "e7e2bf9a",
   "metadata": {
    "scrolled": true
   },
   "outputs": [],
   "source": [
    "housing.info()"
   ]
  },
  {
   "cell_type": "code",
   "execution_count": null,
   "id": "e6893f58",
   "metadata": {},
   "outputs": [],
   "source": [
    "housing.describe()"
   ]
  },
  {
   "cell_type": "code",
   "execution_count": null,
   "id": "83c943f4",
   "metadata": {},
   "outputs": [],
   "source": [
    "print(description)"
   ]
  },
  {
   "cell_type": "markdown",
   "id": "e8d4549d",
   "metadata": {},
   "source": [
    "---"
   ]
  },
  {
   "cell_type": "code",
   "execution_count": null,
   "id": "25cb1e9d",
   "metadata": {},
   "outputs": [],
   "source": [
    "# Load datasets for ML\n",
    "\n",
    "X, y = datasets.fetch_california_housing(return_X_y=True)\n",
    "#X, y = make_regression(n_samples=1000, n_features=10, random_state=42)\n",
    "\n",
    "print(X.shape, y.shape)"
   ]
  },
  {
   "cell_type": "code",
   "execution_count": null,
   "id": "bfccfa78",
   "metadata": {},
   "outputs": [],
   "source": [
    "# Create train and test (validation) samples\n",
    "\n",
    "X_train, X_test, y_train, y_test = train_test_split(X, y, test_size=0.2, random_state=42)\n",
    "print(f\"X_train: {X_train.shape}, X_test: {X_test.shape}, y_train: {y_train.shape}, y_test: {y_test.shape}\")"
   ]
  },
  {
   "cell_type": "code",
   "execution_count": null,
   "id": "b5525785",
   "metadata": {},
   "outputs": [],
   "source": [
    "%%time\n",
    "\n",
    "# Train the model and make predictions\n",
    "\n",
    "regressor = LinearRegression()\n",
    "#regressor = RandomForestRegressor()\n",
    "hyperparameters = regressor.get_params()\n",
    "regressor.fit(X_train, y_train)\n",
    "y_pred = regressor.predict(X_test)\n",
    "\n",
    "print('Model:', regressor, '\\n')\n",
    "print('Model hyperparameters:', hyperparameters, '\\n')\n",
    "print('Ground truth target:', y_test, '\\n')\n",
    "print('Predicted target:', y_pred, '\\n')"
   ]
  },
  {
   "cell_type": "markdown",
   "id": "7b498ef7",
   "metadata": {},
   "source": [
    "---"
   ]
  },
  {
   "cell_type": "markdown",
   "id": "090099b1",
   "metadata": {},
   "source": [
    "## [Error evaluation (Regression)](https://scikit-learn.org/stable/modules/model_evaluation.html)\n",
    "\n",
    "![Image](./img/error_regression.jpeg)"
   ]
  },
  {
   "cell_type": "markdown",
   "id": "19ff00b2",
   "metadata": {},
   "source": [
    "### MSE (Mean Square Error)\n",
    "\n",
    "Mean Square Error measures the average squared difference between the estimated values and the actual value. \n",
    "\n",
    "__Potential problems:__ Very sensitive to outliers.\n",
    "\n",
    "![Image](./img/mse.JPG)"
   ]
  },
  {
   "cell_type": "code",
   "execution_count": null,
   "id": "4b603f49",
   "metadata": {},
   "outputs": [],
   "source": [
    "# MSE calculation\n",
    "\n",
    "mean_squared_error(y_test, y_pred)"
   ]
  },
  {
   "cell_type": "markdown",
   "id": "49ea8d1b",
   "metadata": {},
   "source": [
    "__Interpretation:__ The smaller the mean squared error, the closer you are to finding the best fit."
   ]
  },
  {
   "cell_type": "markdown",
   "id": "59ccdcc9",
   "metadata": {},
   "source": [
    "---"
   ]
  },
  {
   "cell_type": "markdown",
   "id": "e8d1aa46",
   "metadata": {},
   "source": [
    "### RMSE (Root Mean Square Error)\n",
    "\n",
    "Root Mean Squared Error is just the square root of the mean square error. It is preferred over MSE because it the most easily interpreted statistic since it has the same units as the target. It is the standard deviation of the residuals (prediction errors).\n",
    "\n",
    "__Potential problems:__ It gives a relatively high weight to large errors.\n",
    "\n",
    "![Image](./img/rmse.JPG)"
   ]
  },
  {
   "cell_type": "code",
   "execution_count": null,
   "id": "04e2bd41",
   "metadata": {},
   "outputs": [],
   "source": [
    "# RMSE calculation\n",
    "\n",
    "rmse = mean_squared_error(y_test, y_pred)**0.5\n",
    "rmse"
   ]
  },
  {
   "cell_type": "markdown",
   "id": "24f44cc7",
   "metadata": {},
   "source": [
    "__Interpretation:__ The smaller the mean squared error, the closer you are to finding the best fit. This is the one used by Kaggle!!!"
   ]
  },
  {
   "cell_type": "code",
   "execution_count": null,
   "id": "81504370",
   "metadata": {},
   "outputs": [],
   "source": [
    "# Visual analysis\n",
    "\n",
    "check = pd.DataFrame({'Ground truth':y_test[:10],\n",
    "                      'Predictions':y_pred[:10], \n",
    "                      'RMSE':rmse})\n",
    "check.reset_index(inplace=True)\n",
    "check.plot(x='index',\n",
    "           y=['Ground truth', 'Predictions', 'RMSE'], \n",
    "           kind='line', \n",
    "           figsize=(15, 10));"
   ]
  },
  {
   "cell_type": "markdown",
   "id": "e9e0e123",
   "metadata": {},
   "source": [
    "---"
   ]
  },
  {
   "cell_type": "markdown",
   "id": "16a6314e",
   "metadata": {},
   "source": [
    "### R2 (R-squared)\n",
    "\n",
    "R-squared is a statistical measure that represents what proportion of the variance for a dependent variable is explained by the independent variables (e.g.: an r-squared of 60% reveals that 60% of the data fit the regression model).\n",
    "\n",
    "__Potential problems:__ R-squared always increases with any new feature addition which means that it’s difficult to identify if the model did better with lesser features.\n",
    "\n",
    "![Image](./img/r2.JPG)"
   ]
  },
  {
   "cell_type": "code",
   "execution_count": null,
   "id": "c5c30e2d",
   "metadata": {},
   "outputs": [],
   "source": [
    "# R2 calculation\n",
    "\n",
    "r2 = r2_score(y_test, y_pred)\n",
    "r2"
   ]
  },
  {
   "cell_type": "code",
   "execution_count": null,
   "id": "ea0be51b",
   "metadata": {},
   "outputs": [],
   "source": [
    "# Another way\n",
    "\n",
    "r2_ = regressor.score(X_test, y_test)\n",
    "r2_"
   ]
  },
  {
   "cell_type": "markdown",
   "id": "cf6befae",
   "metadata": {},
   "source": [
    "__Interpretation:__ R-squared rank from 0 to 100% (i.e.: from 0 to 1), where 0 means that 0% of the data fit the regression model and 1 means that 100% of the data fit the regression model."
   ]
  },
  {
   "cell_type": "markdown",
   "id": "2e2ffb0c",
   "metadata": {},
   "source": [
    "---"
   ]
  }
 ],
 "metadata": {
  "kernelspec": {
   "display_name": "Python [conda env:.conda-sklearn-env]",
   "language": "python",
   "name": "conda-env-.conda-sklearn-env-py"
  },
  "language_info": {
   "codemirror_mode": {
    "name": "ipython",
    "version": 3
   },
   "file_extension": ".py",
   "mimetype": "text/x-python",
   "name": "python",
   "nbconvert_exporter": "python",
   "pygments_lexer": "ipython3",
   "version": "3.10.2"
  }
 },
 "nbformat": 4,
 "nbformat_minor": 5
}
