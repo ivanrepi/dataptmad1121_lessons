{
 "cells": [
  {
   "cell_type": "markdown",
   "id": "106c3bb3",
   "metadata": {},
   "source": [
    "# Pandas Advanced Functions"
   ]
  },
  {
   "cell_type": "code",
   "execution_count": null,
   "id": "f6af0be6",
   "metadata": {},
   "outputs": [],
   "source": [
    "# imports\n",
    "\n",
    "import numpy as np\n",
    "import pandas as pd\n",
    "\n",
    "pd.options.display.max_columns = None"
   ]
  },
  {
   "cell_type": "markdown",
   "id": "63aa8dc5",
   "metadata": {},
   "source": [
    "### DataFrame.pivot_table()\n",
    "\n",
    "https://pandas.pydata.org/docs/reference/api/pandas.pivot_table.html"
   ]
  },
  {
   "cell_type": "code",
   "execution_count": null,
   "id": "6ae55545",
   "metadata": {},
   "outputs": [],
   "source": [
    "# in case you forgot...\n",
    "\n",
    "df = pd.read_csv('./datasets/vehicles.csv', low_memory=False)\n",
    "df.info()"
   ]
  },
  {
   "cell_type": "code",
   "execution_count": null,
   "id": "71bdb610",
   "metadata": {},
   "outputs": [],
   "source": [
    "df.head()"
   ]
  },
  {
   "cell_type": "code",
   "execution_count": null,
   "id": "1ace9db9",
   "metadata": {},
   "outputs": [],
   "source": [
    "df['Vehicle Class'].value_counts()"
   ]
  },
  {
   "cell_type": "code",
   "execution_count": null,
   "id": "cb01905d",
   "metadata": {},
   "outputs": [],
   "source": [
    "# Introducing the Pivot Table!!!\n",
    "\n",
    "pivot_table = df.pivot_table(index=['Vehicle Class'])\n",
    "pivot_table"
   ]
  },
  {
   "cell_type": "markdown",
   "id": "6be5858a",
   "metadata": {},
   "source": [
    "---"
   ]
  },
  {
   "cell_type": "code",
   "execution_count": null,
   "id": "801061fd",
   "metadata": {},
   "outputs": [],
   "source": [
    "# Multicolumn pivot table\n",
    "\n",
    "pt_multicol_simple = df.pivot_table(index=['Vehicle Class'],\n",
    "                                    columns=['Cylinders'])\n",
    "\n",
    "pt_multicol_simple"
   ]
  },
  {
   "cell_type": "code",
   "execution_count": null,
   "id": "6e70dd7e",
   "metadata": {},
   "outputs": [],
   "source": [
    "print(pt_multicol_simple.columns[0])\n",
    "#print(pt_multicol_simple.columns[0][0])\n",
    "#print(pt_multicol_simple.columns[0][1])\n",
    "#print(pt_multicol_simple.columns.get_level_values(0))\n",
    "#print(pt_multicol_simple.columns.get_level_values(1))"
   ]
  },
  {
   "cell_type": "code",
   "execution_count": null,
   "id": "39075983",
   "metadata": {},
   "outputs": [],
   "source": [
    "# Slicing a multicolumn pivot table\n",
    "\n",
    "pt_multicol_simple_co2 = pt_multicol_simple[pt_multicol_simple.columns[0][0]]\n",
    "pt_multicol_simple_co2"
   ]
  },
  {
   "cell_type": "code",
   "execution_count": null,
   "id": "1a0f2b96",
   "metadata": {},
   "outputs": [],
   "source": [
    "# Indexing a multicolumn pivot table\n",
    "\n",
    "pt_multicol_simple['CO2 Emission Grams/Mile'][4.0][3]"
   ]
  },
  {
   "cell_type": "code",
   "execution_count": null,
   "id": "1b089076",
   "metadata": {},
   "outputs": [],
   "source": [
    "# Infinite columns...generally not a good idea...\n",
    "\n",
    "pt_multicol_complex = df.pivot_table(index=['Vehicle Class', 'Model'],\n",
    "                                     columns=['Cylinders', 'Engine Displacement'])\n",
    "pt_multicol_complex"
   ]
  },
  {
   "cell_type": "markdown",
   "id": "6870efa9",
   "metadata": {},
   "source": [
    "---"
   ]
  },
  {
   "cell_type": "code",
   "execution_count": null,
   "id": "3a599e6a",
   "metadata": {},
   "outputs": [],
   "source": [
    "# Selecting the values to pivot\n",
    "\n",
    "pt_value = df.pivot_table(index=['Vehicle Class'],\n",
    "                          values=['Combined MPG'])\n",
    "pt_value"
   ]
  },
  {
   "cell_type": "markdown",
   "id": "41136a3a",
   "metadata": {},
   "source": [
    "---"
   ]
  },
  {
   "cell_type": "code",
   "execution_count": null,
   "id": "9f55ac81",
   "metadata": {},
   "outputs": [],
   "source": [
    "# Selecting the aggregation to perform\n",
    "\n",
    "pt_value_agg = df.pivot_table(index=['Vehicle Class'],\n",
    "                              values=['Combined MPG'],\n",
    "                              aggfunc='max')\n",
    "pt_value_agg"
   ]
  },
  {
   "cell_type": "code",
   "execution_count": null,
   "id": "abcfb8ae",
   "metadata": {},
   "outputs": [],
   "source": [
    "# You can perform many aggregations\n",
    "\n",
    "pt_value_agg = df.pivot_table(index=['Vehicle Class'],\n",
    "                              values=['Combined MPG'],\n",
    "                              aggfunc=['mean','max'])\n",
    "pt_value_agg"
   ]
  },
  {
   "cell_type": "code",
   "execution_count": null,
   "id": "41fc4e16",
   "metadata": {},
   "outputs": [],
   "source": [
    "# You can fill null values\n",
    "\n",
    "pt_col_fill = df.pivot_table(index=['Vehicle Class'],\n",
    "                             columns=['Cylinders'],\n",
    "                             fill_value='ola ke ase')\n",
    "\n",
    "pt_col_fill"
   ]
  },
  {
   "cell_type": "markdown",
   "id": "6f934842",
   "metadata": {},
   "source": [
    "---"
   ]
  },
  {
   "cell_type": "markdown",
   "id": "560a2874",
   "metadata": {},
   "source": [
    "### DataFrame.set_index()\n",
    "https://pandas.pydata.org/docs/reference/api/pandas.DataFrame.set_index.html\n",
    "\n",
    "### DataFrame.reindex()\n",
    "https://pandas.pydata.org/docs/reference/api/pandas.DataFrame.reindex.html\n",
    "\n",
    "### DataFrame.reset_index()\n",
    "https://pandas.pydata.org/docs/reference/api/pandas.DataFrame.reset_index.html\n"
   ]
  },
  {
   "cell_type": "code",
   "execution_count": null,
   "id": "f558147d",
   "metadata": {},
   "outputs": [],
   "source": [
    "#Which is my index\n",
    "\n",
    "print(df.index)\n",
    "#print(pivot_table.index)\n",
    "#print(pt_multicol_simple.index)\n",
    "#print(pt_multicol_complex.index)\n",
    "#print(pivot_table.index.values)"
   ]
  },
  {
   "cell_type": "code",
   "execution_count": null,
   "id": "a0006c28",
   "metadata": {},
   "outputs": [],
   "source": [
    "# Select new index\n",
    "\n",
    "df.set_index(['Make'], inplace=True)\n",
    "#df.set_index(['Make', 'Model'], inplace=True)\n",
    "df.head()"
   ]
  },
  {
   "cell_type": "code",
   "execution_count": null,
   "id": "5da53ba0",
   "metadata": {},
   "outputs": [],
   "source": [
    "# Set new index\n",
    "\n",
    "new_index = [i for i in range(0, len(df)*2, 2)]\n",
    "df = df.reindex(new_index)\n",
    "df.head()"
   ]
  },
  {
   "cell_type": "code",
   "execution_count": null,
   "id": "896f4ac1",
   "metadata": {},
   "outputs": [],
   "source": [
    "# Reset index\n",
    "\n",
    "df.reset_index(inplace = True)\n",
    "df.head()"
   ]
  },
  {
   "cell_type": "markdown",
   "id": "16dabef0",
   "metadata": {},
   "source": [
    "---"
   ]
  },
  {
   "cell_type": "markdown",
   "id": "ba69ce02",
   "metadata": {},
   "source": [
    "### pd.eval()\n",
    "https://pandas.pydata.org/docs/reference/api/pandas.eval.html"
   ]
  },
  {
   "cell_type": "code",
   "execution_count": null,
   "id": "a46520f8",
   "metadata": {},
   "outputs": [],
   "source": [
    "df1 = pd.DataFrame(np.random.randn(10, 3), columns=['a', 'b', 'c'])\n",
    "df1.head()"
   ]
  },
  {
   "cell_type": "code",
   "execution_count": null,
   "id": "91091400",
   "metadata": {},
   "outputs": [],
   "source": [
    "df2 = pd.DataFrame(np.random.randn(10, 3), columns=['a', 'b', 'c'])\n",
    "df2.head()"
   ]
  },
  {
   "cell_type": "code",
   "execution_count": null,
   "id": "22c8f50a",
   "metadata": {},
   "outputs": [],
   "source": [
    "# One DataFrame\n",
    "\n",
    "df1.eval('b > 0')"
   ]
  },
  {
   "cell_type": "code",
   "execution_count": null,
   "id": "48bc8d64",
   "metadata": {},
   "outputs": [],
   "source": [
    "# Between 2 DataFrames\n",
    "\n",
    "pd.eval('df1 < df2')"
   ]
  },
  {
   "cell_type": "markdown",
   "id": "fcb25499",
   "metadata": {},
   "source": [
    "---"
   ]
  },
  {
   "cell_type": "markdown",
   "id": "25e90405",
   "metadata": {},
   "source": [
    "### DataFrame.query()\n",
    "https://pandas.pydata.org/docs/reference/api/pandas.DataFrame.query.html"
   ]
  },
  {
   "cell_type": "code",
   "execution_count": null,
   "id": "fc07f278",
   "metadata": {},
   "outputs": [],
   "source": [
    "df1.query('b > 0')"
   ]
  },
  {
   "cell_type": "markdown",
   "id": "a21830aa",
   "metadata": {},
   "source": [
    "---"
   ]
  },
  {
   "cell_type": "markdown",
   "id": "e3a84143",
   "metadata": {},
   "source": [
    "### DataFrame.lookup()\n",
    "\n",
    "https://pandas.pydata.org/docs/reference/api/pandas.DataFrame.lookup.html"
   ]
  },
  {
   "cell_type": "code",
   "execution_count": null,
   "id": "af864fee",
   "metadata": {},
   "outputs": [],
   "source": [
    "seasons = pd.DataFrame(np.random.random((10,4)), columns=['winter','spring','summer','autumn'])\n",
    "seasons"
   ]
  },
  {
   "cell_type": "code",
   "execution_count": null,
   "id": "08d0b0be",
   "metadata": {},
   "outputs": [],
   "source": [
    "lookup_list = ['summer','winter','spring','summer','autumn','winter','winter','spring','summer','summer']\n",
    "seasons.lookup(seasons.index, lookup_list)"
   ]
  },
  {
   "cell_type": "markdown",
   "id": "0b5078bd",
   "metadata": {},
   "source": [
    "---"
   ]
  },
  {
   "cell_type": "markdown",
   "id": "51be0d4b",
   "metadata": {},
   "source": [
    "### .melt()\n",
    "\n",
    "https://pandas.pydata.org/docs/reference/api/pandas.melt.html"
   ]
  },
  {
   "cell_type": "code",
   "execution_count": null,
   "id": "0cbc478e",
   "metadata": {},
   "outputs": [],
   "source": [
    "# Unpivot data\n",
    "\n",
    "unpivoted = pd.melt(seasons, value_vars = seasons.columns, \n",
    "                    var_name = 'season', \n",
    "                    value_name = '% percentage')\n",
    "unpivoted"
   ]
  },
  {
   "cell_type": "markdown",
   "id": "da964486",
   "metadata": {},
   "source": [
    "---"
   ]
  },
  {
   "cell_type": "markdown",
   "id": "cbe4fed5",
   "metadata": {},
   "source": [
    "### .cut()\n",
    "\n",
    "https://pandas.pydata.org/docs/reference/api/pandas.cut.html"
   ]
  },
  {
   "cell_type": "code",
   "execution_count": null,
   "id": "c5b6ebe1",
   "metadata": {
    "scrolled": true
   },
   "outputs": [],
   "source": [
    "unpivoted['groped_seasons'] = pd.cut(unpivoted['% percentage'], 3)\n",
    "print(unpivoted['groped_seasons'].unique())\n",
    "unpivoted"
   ]
  },
  {
   "cell_type": "markdown",
   "id": "20a89ff8",
   "metadata": {},
   "source": [
    "---"
   ]
  },
  {
   "cell_type": "markdown",
   "id": "080988e9",
   "metadata": {},
   "source": [
    "### Do you know any other fancy method?"
   ]
  }
 ],
 "metadata": {
  "kernelspec": {
   "display_name": "Python [conda env:.conda-ironhack]",
   "language": "python",
   "name": "conda-env-.conda-ironhack-py"
  },
  "language_info": {
   "codemirror_mode": {
    "name": "ipython",
    "version": 3
   },
   "file_extension": ".py",
   "mimetype": "text/x-python",
   "name": "python",
   "nbconvert_exporter": "python",
   "pygments_lexer": "ipython3",
   "version": "3.7.11"
  }
 },
 "nbformat": 4,
 "nbformat_minor": 5
}
