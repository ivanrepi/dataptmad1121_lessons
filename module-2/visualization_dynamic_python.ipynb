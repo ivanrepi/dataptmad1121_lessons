{
 "cells": [
  {
   "cell_type": "markdown",
   "id": "10782acb",
   "metadata": {},
   "source": [
    "# Dynamic Plotting Libraries for Python"
   ]
  },
  {
   "cell_type": "code",
   "execution_count": null,
   "id": "f60602b9",
   "metadata": {},
   "outputs": [],
   "source": [
    "# imports\n",
    "import numpy as np\n",
    "import pandas as pd\n",
    "\n",
    "# plotly\n",
    "import plotly.express as px   # conda install plotly\n",
    "import plotly.io as pio\n",
    "\n",
    "# cufflinks\n",
    "import cufflinks as cf   # pip install cufflinks\n",
    "cf.go_offline()"
   ]
  },
  {
   "cell_type": "markdown",
   "id": "a11aa2f7",
   "metadata": {},
   "source": [
    "### plotly (+cufflinks)\n",
    "\n",
    "Interactive charts and maps for Python, R, Julia, Javascript, ggplot2, F#, MATLAB®, and Dash.\n",
    "\n",
    "https://plotly.com/graphing-libraries/"
   ]
  },
  {
   "cell_type": "code",
   "execution_count": null,
   "id": "6422bac3",
   "metadata": {},
   "outputs": [],
   "source": [
    "# our data needs some changes\n",
    "covid = pd.read_csv('./datasets/covid_eu_2020_2021.csv')\n",
    "country = 'Spain'\n",
    "covid_country = covid[covid['countriesAndTerritories'] == country].reset_index(drop=True)\n",
    "covid_country['dateRep'] = pd.to_datetime(covid_country['dateRep'], dayfirst=True)\n",
    "covid_country = covid_country.sort_values('dateRep').reset_index()\n",
    "covid_country.info()"
   ]
  },
  {
   "cell_type": "code",
   "execution_count": null,
   "id": "effded04",
   "metadata": {},
   "outputs": [],
   "source": [
    "covid_country"
   ]
  },
  {
   "cell_type": "code",
   "execution_count": null,
   "id": "03f66e32",
   "metadata": {},
   "outputs": [],
   "source": [
    "title = f'COVID-19 Daily Cases in {country}'\n",
    "px.scatter(data_frame=covid_country, x='dateRep', y='cases',\n",
    "        labels={'dateRep':'Date','cases':'Daily Cases'}, title=title)"
   ]
  },
  {
   "cell_type": "code",
   "execution_count": null,
   "id": "a293648d",
   "metadata": {},
   "outputs": [],
   "source": [
    "covid_country.iplot(x='dateRep', y='cases', kind='line',\n",
    "                    xTitle='Date', yTitle='Daily Cases', title=title);"
   ]
  },
  {
   "cell_type": "code",
   "execution_count": null,
   "id": "a78fd7c4",
   "metadata": {},
   "outputs": [],
   "source": [
    "covid_country.iplot(x='dateRep', y=['cases', 'deaths'], kind='line',\n",
    "                    xTitle='Date', yTitle='Daily Values', title=title);"
   ]
  },
  {
   "cell_type": "code",
   "execution_count": null,
   "id": "552ce6c3",
   "metadata": {},
   "outputs": [],
   "source": [
    "covid_country.iplot(x='dateRep', y=['cases', 'deaths'], kind='line',\n",
    "                    width=2.0, subplots=True,\n",
    "                    xTitle='Date', yTitle='Daily Values', title=title);"
   ]
  },
  {
   "cell_type": "code",
   "execution_count": null,
   "id": "c37a7411",
   "metadata": {},
   "outputs": [],
   "source": [
    "covid_country.iplot(x='dateRep', y=['cases', 'deaths'], kind='line',\n",
    "                    width=2.0, subplots=True, fill=True,\n",
    "                    xTitle='Date', yTitle='Daily Values', title=title);"
   ]
  },
  {
   "cell_type": "markdown",
   "id": "9febb097",
   "metadata": {},
   "source": [
    "---"
   ]
  },
  {
   "cell_type": "code",
   "execution_count": null,
   "id": "60fbe9ce",
   "metadata": {},
   "outputs": [],
   "source": [
    "# our data\n",
    "movies = pd.read_csv('./datasets/movies_100k_sample.csv', index_col=0).reset_index(drop=True)\n",
    "print(movies.info())\n",
    "movies"
   ]
  },
  {
   "cell_type": "code",
   "execution_count": null,
   "id": "1d861ce7",
   "metadata": {},
   "outputs": [],
   "source": [
    "movies['Movie_Id'].iplot(kind='hist', bins=30,\n",
    "                         xTitle='Movies', yTitle='Votes', title='Movie Votes Distribution');"
   ]
  },
  {
   "cell_type": "code",
   "execution_count": null,
   "id": "00d19526",
   "metadata": {},
   "outputs": [],
   "source": [
    "px.histogram(data_frame=movies['Movie_Id'],\n",
    "             labels={'value':'Movies'}, title='Movie Votes Distribution',\n",
    "             template='plotly_white')"
   ]
  },
  {
   "cell_type": "markdown",
   "id": "bc632095",
   "metadata": {},
   "source": [
    "---"
   ]
  },
  {
   "cell_type": "code",
   "execution_count": null,
   "id": "11aa7cd6",
   "metadata": {},
   "outputs": [],
   "source": [
    "pio.templates"
   ]
  }
 ],
 "metadata": {
  "kernelspec": {
   "display_name": "Python [conda env:.conda-ironhack]",
   "language": "python",
   "name": "conda-env-.conda-ironhack-py"
  },
  "language_info": {
   "codemirror_mode": {
    "name": "ipython",
    "version": 3
   },
   "file_extension": ".py",
   "mimetype": "text/x-python",
   "name": "python",
   "nbconvert_exporter": "python",
   "pygments_lexer": "ipython3",
   "version": "3.7.11"
  }
 },
 "nbformat": 4,
 "nbformat_minor": 5
}
