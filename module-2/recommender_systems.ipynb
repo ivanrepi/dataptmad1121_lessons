{
 "cells": [
  {
   "cell_type": "markdown",
   "id": "203c9413",
   "metadata": {},
   "source": [
    "# Recommender Systems\n",
    "\n",
    "![Image](./img/goal_recommender_systems.jpg)"
   ]
  },
  {
   "cell_type": "markdown",
   "id": "cd55ea42",
   "metadata": {},
   "source": [
    "# Data  and methods\n",
    "\n",
    "- __Explicit Feedback:__ direct and quantitative data collected from users.\n",
    "\n",
    "- __Implicit Feedback:__ data collected indirectly from user interactions, and they act as a proxy for user preference."
   ]
  },
  {
   "cell_type": "markdown",
   "id": "f138a106",
   "metadata": {},
   "source": [
    "![Image](./img/recommender_systems_methods.png)"
   ]
  },
  {
   "cell_type": "markdown",
   "id": "3b5b1bf4",
   "metadata": {},
   "source": [
    "---"
   ]
  },
  {
   "cell_type": "markdown",
   "id": "20c90818",
   "metadata": {},
   "source": [
    "## Collaborative filtering methods\n",
    "\n",
    "- Based on past user-item iteractions.\n",
    "\n",
    "- Detect similar users or similar items.\n",
    "\n",
    "- Memory based (nearest neighbours) and Model based (underlying generative model).\n",
    "\n",
    "- Require no info about the users or items.\n",
    "\n",
    "- More interactions => More accuracy."
   ]
  },
  {
   "cell_type": "code",
   "execution_count": null,
   "id": "56e74628",
   "metadata": {},
   "outputs": [],
   "source": [
    "# imports\n",
    "\n",
    "import numpy as np\n",
    "import pandas as pd\n",
    "import matplotlib.pyplot as plt\n",
    "import cufflinks as cf\n",
    "cf.go_offline()\n",
    "\n",
    "# Scipy\n",
    "from scipy.spatial.distance import pdist, squareform   # conda install -c anaconda scipy"
   ]
  },
  {
   "cell_type": "markdown",
   "id": "d0e53927",
   "metadata": {},
   "source": [
    "[SciPy](https://scipy.github.io/devdocs/reference/index.html) contains modules for optimization, linear algebra, integration, interpolation, special functions, FFT, signal and image processing, ODE solvers and other tasks common in science and engineering."
   ]
  },
  {
   "cell_type": "markdown",
   "id": "48da7412",
   "metadata": {},
   "source": [
    "### Dataset EDA"
   ]
  },
  {
   "cell_type": "code",
   "execution_count": null,
   "id": "d84e3d1d",
   "metadata": {},
   "outputs": [],
   "source": [
    "movie_ratings = pd.read_csv('./datasets/movie_ratings.csv').set_index('Movie')\n",
    "movie_ratings"
   ]
  },
  {
   "cell_type": "code",
   "execution_count": null,
   "id": "5021c0bf",
   "metadata": {},
   "outputs": [],
   "source": [
    "users_ratings = movie_ratings.T\n",
    "users_ratings"
   ]
  },
  {
   "cell_type": "code",
   "execution_count": null,
   "id": "e0a01183",
   "metadata": {},
   "outputs": [],
   "source": [
    "movies = list(users_ratings.columns)\n",
    "users_ratings.iplot(y=movies,\n",
    "                    kind='line',\n",
    "                    width=10.0,\n",
    "                    subplots=True,\n",
    "                    fill=True,\n",
    "                    title='Ratings per movie');"
   ]
  },
  {
   "cell_type": "markdown",
   "id": "59c09e19",
   "metadata": {},
   "source": [
    "---"
   ]
  },
  {
   "cell_type": "markdown",
   "id": "2c08304c",
   "metadata": {},
   "source": [
    "## User-user memory based method\n",
    "\n",
    "It represent users based on their interactions with items and evaluate distances between users."
   ]
  },
  {
   "cell_type": "code",
   "execution_count": null,
   "id": "cd7ed4f1",
   "metadata": {},
   "outputs": [],
   "source": [
    "# Ploting function\n",
    "\n",
    "def ratings_scatter(movie1, movie2):\n",
    "    x = users_ratings[movie1]\n",
    "    y = users_ratings[movie2]\n",
    "    n = list(users_ratings.index)\n",
    "\n",
    "    fig, ax = plt.subplots()\n",
    "    ax.scatter(x, y, s=100)\n",
    "    fig.set_figwidth(12)\n",
    "    fig.set_figheight(8)\n",
    "    plt.title(\"Preference Space for \"+ movie1 + \" vs. \" + movie2, fontsize=20)\n",
    "    ax.set_xlabel(movie1, fontsize=16)\n",
    "    ax.set_ylabel(movie2, fontsize=16) \n",
    "\n",
    "    for i, txt in enumerate(n):\n",
    "        ax.annotate(txt, (x[i], y[i]), fontsize=12)"
   ]
  },
  {
   "cell_type": "code",
   "execution_count": null,
   "id": "8c6562e3",
   "metadata": {
    "scrolled": false
   },
   "outputs": [],
   "source": [
    "# 2 dimensional space\n",
    "\n",
    "ratings_scatter('Venom', 'Incredibles 2')\n",
    "ratings_scatter('Bohemian Rhapsody', 'Jurassic World: Fallen Kingdom')\n",
    "ratings_scatter('Fantastic Beasts: The Crimes of Grindelwald', 'Mission: Impossible – Fallout')\n",
    "ratings_scatter('Black Panther', 'Deadpool 2')"
   ]
  },
  {
   "cell_type": "markdown",
   "id": "bf0e2536",
   "metadata": {},
   "source": [
    "---"
   ]
  },
  {
   "cell_type": "markdown",
   "id": "bce452cd",
   "metadata": {},
   "source": [
    "### scipy.spatial.distance.pdist\n",
    "\n",
    "Pairwise distances between observations in n-dimensional space.\n",
    "\n",
    "https://scipy.github.io/devdocs/reference/generated/scipy.spatial.distance.pdist.html"
   ]
  },
  {
   "cell_type": "code",
   "execution_count": null,
   "id": "05295d82",
   "metadata": {},
   "outputs": [],
   "source": [
    "dist_calculation = pdist(X=users_ratings, metric='euclidean')\n",
    "dist_calculation"
   ]
  },
  {
   "cell_type": "code",
   "execution_count": null,
   "id": "8725900f",
   "metadata": {},
   "outputs": [],
   "source": [
    "# Squareform method: https://scipy.github.io/devdocs/reference/generated/scipy.spatial.distance.squareform.html\n",
    "\n",
    "dist_distribution = squareform(dist_calculation)\n",
    "dist_distribution"
   ]
  },
  {
   "cell_type": "code",
   "execution_count": null,
   "id": "564a4a57",
   "metadata": {},
   "outputs": [],
   "source": [
    "euclid_dist = pd.DataFrame(dist_distribution,\n",
    "                           index=movie_ratings.columns, \n",
    "                           columns=movie_ratings.columns)\n",
    "\n",
    "euclid_dist"
   ]
  },
  {
   "cell_type": "code",
   "execution_count": null,
   "id": "e7a18287",
   "metadata": {},
   "outputs": [],
   "source": [
    "# Frame of reference\n",
    "\n",
    "euclid_dist_norm = pd.DataFrame(1/(1 + squareform(pdist(users_ratings, 'euclidean'))),\n",
    "                                index=movie_ratings.columns,\n",
    "                                columns=movie_ratings.columns)\n",
    "\n",
    "euclid_dist_norm"
   ]
  },
  {
   "cell_type": "markdown",
   "id": "2810750a",
   "metadata": {},
   "source": [
    "---"
   ]
  },
  {
   "cell_type": "markdown",
   "id": "e376221e",
   "metadata": {},
   "source": [
    "### Full Pipeline"
   ]
  },
  {
   "cell_type": "code",
   "execution_count": null,
   "id": "82cf2305",
   "metadata": {},
   "outputs": [],
   "source": [
    "# New User into the system\n",
    "\n",
    "Tom = {'Aquaman': 2,\n",
    "       'Avengers: Infinity War': 1,\n",
    "       'Black Panther': 5,\n",
    "       'Bohemian Rhapsody': 5,\n",
    "       'Deadpool 2': 2,\n",
    "       'Fantastic Beasts: The Crimes of Grindelwald': 3,\n",
    "       'Incredibles 2': 3,\n",
    "       'Jurassic World: Fallen Kingdom': 4,\n",
    "       'Mission: Impossible – Fallout': 3,\n",
    "       'Venom': 3}"
   ]
  },
  {
   "cell_type": "code",
   "execution_count": null,
   "id": "33108a3c",
   "metadata": {},
   "outputs": [],
   "source": [
    "movie_ratings['Tom'] = pd.Series(Tom)\n",
    "movie_ratings"
   ]
  },
  {
   "cell_type": "code",
   "execution_count": null,
   "id": "44264eeb",
   "metadata": {},
   "outputs": [],
   "source": [
    "# Distances calculation in the n-dimensional space\n",
    "\n",
    "euclid_dist_norm = pd.DataFrame(1/(1 + squareform(pdist(movie_ratings.T, 'euclidean'))),\n",
    "                                index=movie_ratings.columns,\n",
    "                                columns=movie_ratings.columns)\n",
    "\n",
    "euclid_dist_norm"
   ]
  },
  {
   "cell_type": "code",
   "execution_count": null,
   "id": "e4bc5a2f",
   "metadata": {},
   "outputs": [],
   "source": [
    "# Similarities to the new User\n",
    "\n",
    "euclid_simil_norm = euclid_dist_norm['Tom'].sort_values(ascending=False)[1:]\n",
    "euclid_simil_norm"
   ]
  },
  {
   "cell_type": "code",
   "execution_count": null,
   "id": "20ac4a46",
   "metadata": {},
   "outputs": [],
   "source": [
    "# Movies that the new User user hasn't watched\n",
    "\n",
    "movie_ratings_test = pd.read_csv('./datasets/movie_ratings_test.csv').set_index('Movie')\n",
    "recommend_euclid = movie_ratings_test.copy()\n",
    "recommend_euclid"
   ]
  },
  {
   "cell_type": "code",
   "execution_count": null,
   "id": "909a3a3a",
   "metadata": {},
   "outputs": [],
   "source": [
    "# Similarities to the new User (we need to reassemble the data)\n",
    "\n",
    "euclid_simil_items = dict(euclid_simil_norm).items()\n",
    "euclid_simil_items"
   ]
  },
  {
   "cell_type": "code",
   "execution_count": null,
   "id": "18763067",
   "metadata": {},
   "outputs": [],
   "source": [
    "# Movies matrix weights by user\n",
    "\n",
    "for name, score in euclid_simil_items:\n",
    "    recommend_euclid[name] = recommend_euclid[name] * score\n",
    "recommend_euclid"
   ]
  },
  {
   "cell_type": "code",
   "execution_count": null,
   "id": "fbe95497",
   "metadata": {},
   "outputs": [],
   "source": [
    "# Movies matrix weights cosidering all users (i.e.: Total Weight per Movie)\n",
    "\n",
    "recommend_euclid['Total Weight per Movie'] = recommend_euclid.sum(axis=1)\n",
    "recommend_euclid = recommend_euclid.sort_values('Total Weight per Movie', ascending=False)\n",
    "recommend_euclid"
   ]
  },
  {
   "cell_type": "code",
   "execution_count": null,
   "id": "f04bbf0a",
   "metadata": {},
   "outputs": [],
   "source": [
    "# Our recommendation for Tom!!!\n",
    "\n",
    "top5_movies_euclid = recommend_euclid[['Total Weight per Movie']].head()\n",
    "top5_movies_euclid"
   ]
  },
  {
   "cell_type": "markdown",
   "id": "76a97cc6",
   "metadata": {},
   "source": [
    "---"
   ]
  },
  {
   "cell_type": "markdown",
   "id": "bd99e8c5",
   "metadata": {},
   "source": [
    "### Cosine similarity\n",
    "\n",
    "Cosine similarity is generally used as a metric for measuring distance when the magnitude of the vectors does not matter and low complexity is required.\n",
    "\n",
    "![Image](./img/cosine_similarity.jpg)"
   ]
  },
  {
   "cell_type": "code",
   "execution_count": null,
   "id": "344d7890",
   "metadata": {},
   "outputs": [],
   "source": [
    "# 2 dimensional space\n",
    "\n",
    "ratings_scatter('Venom', 'Incredibles 2')"
   ]
  },
  {
   "cell_type": "code",
   "execution_count": null,
   "id": "ff300a00",
   "metadata": {},
   "outputs": [],
   "source": [
    "# Cosine similarity calculation in the n-dimensional space \n",
    "\n",
    "movie_ratings = pd.read_csv('./datasets/movie_ratings.csv').set_index('Movie')\n",
    "movie_ratings['Tom'] = pd.Series(Tom)\n",
    "cosine_dist_norm = pd.DataFrame(1/(1 + squareform(pdist(movie_ratings.T, 'cosine'))),\n",
    "                                index=movie_ratings.columns,\n",
    "                                columns=movie_ratings.columns)\n",
    "\n",
    "cosine_dist_norm"
   ]
  },
  {
   "cell_type": "code",
   "execution_count": null,
   "id": "5e65bc13",
   "metadata": {},
   "outputs": [],
   "source": [
    "# Our recommendation for Tom using Cosine Similarity\n",
    "\n",
    "movie_ratings_test = pd.read_csv('./datasets/movie_ratings_test.csv').set_index('Movie')\n",
    "recommend_cosine = movie_ratings_test.copy()\n",
    "cosine_simil_norm = cosine_dist_norm['Tom'].sort_values(ascending=False)[1:]\n",
    "cosine_simil_items = dict(cosine_simil_norm).items()\n",
    "for name, score in cosine_simil_items:\n",
    "    recommend_cosine[name] = recommend_cosine[name] * score\n",
    "recommend_cosine['Total Weight per Movie'] = recommend_cosine.sum(axis=1)\n",
    "recommend_cosine = recommend_cosine.sort_values('Total Weight per Movie', ascending=False)\n",
    "top5_movies_cosine = recommend_cosine[['Total Weight per Movie']].head()\n",
    "top5_movies_cosine"
   ]
  },
  {
   "cell_type": "markdown",
   "id": "6215abab",
   "metadata": {},
   "source": [
    "---"
   ]
  }
 ],
 "metadata": {
  "kernelspec": {
   "display_name": "Python [conda env:.conda-ironhack]",
   "language": "python",
   "name": "conda-env-.conda-ironhack-py"
  },
  "language_info": {
   "codemirror_mode": {
    "name": "ipython",
    "version": 3
   },
   "file_extension": ".py",
   "mimetype": "text/x-python",
   "name": "python",
   "nbconvert_exporter": "python",
   "pygments_lexer": "ipython3",
   "version": "3.7.11"
  }
 },
 "nbformat": 4,
 "nbformat_minor": 5
}
