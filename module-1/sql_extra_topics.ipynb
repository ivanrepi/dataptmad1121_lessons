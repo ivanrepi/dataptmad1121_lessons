{
 "cells": [
  {
   "cell_type": "markdown",
   "source": [
    "# SQL Extra Topics - SQLAlchemy\n",
    "\n",
    "The SQLAlchemy SQL Toolkit and Object Relational Mapper is a comprehensive set of tools for working with databases and Python\n",
    "\n",
    "We'll need:\n",
    "\n",
    "- [Azure SQL Database](https://portal.azure.com/)\n",
    "\n",
    "- [ODBC Driver for SQL Server](https://docs.microsoft.com/en-us/sql/connect/odbc/download-odbc-driver-for-sql-server?view=sql-server-ver15)\n",
    "\n",
    "- [pyodbc](https://pypi.org/project/pyodbc/)\n",
    "\n",
    "- [SQLAlchemy](https://docs.sqlalchemy.org/en/13/intro.html)"
   ],
   "metadata": {}
  },
  {
   "cell_type": "code",
   "execution_count": 1,
   "source": [
    "#Install libraries before starting\n",
    "\n",
    "# imports\n",
    "\n",
    "import os\n",
    "from dotenv import load_dotenv\n",
    "import pyodbc\n",
    "import sqlalchemy\n",
    "from sqlalchemy import create_engine\n",
    "from sqlalchemy.engine import URL\n",
    "import pandas as pd\n",
    "\n",
    "sqlalchemy.__version__"
   ],
   "outputs": [
    {
     "output_type": "execute_result",
     "data": {
      "text/plain": [
       "'1.4.28'"
      ]
     },
     "metadata": {},
     "execution_count": 1
    }
   ],
   "metadata": {}
  },
  {
   "cell_type": "markdown",
   "source": [
    "---"
   ],
   "metadata": {}
  },
  {
   "cell_type": "markdown",
   "source": [
    "### dotenv\n",
    "\n",
    "https://pypi.org/project/python-dotenv/"
   ],
   "metadata": {}
  },
  {
   "cell_type": "code",
   "execution_count": null,
   "source": [
    "load_dotenv('.env')\n",
    "\n",
    "DATABASE_PASSWORD = os.environ.get(\"DATABASE_PASSWORD\")\n",
    "DATABASE_PASSWORD"
   ],
   "outputs": [],
   "metadata": {}
  },
  {
   "cell_type": "markdown",
   "source": [
    "---"
   ],
   "metadata": {}
  },
  {
   "cell_type": "code",
   "execution_count": null,
   "source": [
    "# connection string params => https://docs.sqlalchemy.org/en/14/dialects/mssql.html#pass-through-exact-pyodbc-string\n",
    "\n",
    "driver = 'Driver={ODBC Driver 17 for SQL Server};'\n",
    "server = 'Server=tcp:sqlironhack.database.windows.net,1433;'\n",
    "database = 'Database=AdventureWorksLT;'\n",
    "uid = 'Uid=azureuser;'\n",
    "pwd = f'Pwd={DATABASE_PASSWORD};'\n",
    "config = 'Encrypt=yes;TrustServerCertificate=no;Connection Timeout=30;'"
   ],
   "outputs": [],
   "metadata": {}
  },
  {
   "cell_type": "code",
   "execution_count": null,
   "source": [
    "# connection string assembly\n",
    "\n",
    "connection_string = driver+server+database+uid+pwd+config \n",
    "connection_url = URL.create(\"mssql+pyodbc\", query={\"odbc_connect\": connection_string})\n",
    "connection_url"
   ],
   "outputs": [],
   "metadata": {}
  },
  {
   "cell_type": "code",
   "execution_count": null,
   "source": [
    "# SQL Engine => dialect+driver (https://docs.sqlalchemy.org/en/14/core/engines.html)\n",
    "\n",
    "engine = create_engine(connection_url)\n",
    "type(engine)"
   ],
   "outputs": [],
   "metadata": {}
  },
  {
   "cell_type": "markdown",
   "source": [
    "---"
   ],
   "metadata": {}
  },
  {
   "cell_type": "code",
   "execution_count": null,
   "source": [
    "# Pandas!!!\n",
    "\n",
    "df = pd.read_sql_query(\"SELECT * FROM SalesLT.ProductModel\", engine)\n",
    "df"
   ],
   "outputs": [],
   "metadata": {}
  },
  {
   "cell_type": "markdown",
   "source": [
    "---"
   ],
   "metadata": {}
  },
  {
   "cell_type": "markdown",
   "source": [
    "### Let's see some examples..."
   ],
   "metadata": {}
  },
  {
   "cell_type": "code",
   "execution_count": null,
   "source": [
    "query_1 = '''\n",
    "SELECT TOP 20 pc.Name as CategoryName, p.name as ProductName \n",
    "FROM SalesLT.ProductCategory pc JOIN SalesLT.Product p ON pc.productcategoryid = p.productcategoryid\n",
    "ORDER BY CategoryName\n",
    "'''"
   ],
   "outputs": [],
   "metadata": {}
  },
  {
   "cell_type": "code",
   "execution_count": null,
   "source": [
    "df_q1 = pd.read_sql_query(query_1, engine)\n",
    "df_q1"
   ],
   "outputs": [],
   "metadata": {}
  },
  {
   "cell_type": "code",
   "execution_count": null,
   "source": [
    "query_2 = '''\n",
    "SELECT c.FirstName + ' ' + c.LastName AS [Customer Fullname], p.Name AS [Product Name]\n",
    "FROM SalesLT.Customer AS c\n",
    "    INNER JOIN SalesLT.SalesOrderHeader AS soh ON c.CustomerID = soh.CustomerID\n",
    "    INNER JOIN SalesLT.SalesOrderDetail AS shd ON soh.SalesOrderID = shd.SalesOrderID\n",
    "    INNER JOIN SalesLT.Product AS p ON shd.ProductID = p.ProductID\n",
    "ORDER BY [Customer Fullname], [Product Name]\n",
    "'''"
   ],
   "outputs": [],
   "metadata": {}
  },
  {
   "cell_type": "code",
   "execution_count": null,
   "source": [
    "df_q2 = pd.read_sql_query(query_2, engine)\n",
    "df_q2"
   ],
   "outputs": [],
   "metadata": {}
  },
  {
   "cell_type": "code",
   "execution_count": null,
   "source": [
    "query_3 = '''\n",
    "SELECT   p.name, COUNT(*) AS 'Total Orders'\n",
    "FROM SalesLT.Product AS p\n",
    "    INNER JOIN SalesLT.SalesOrderDetail AS sod ON p.ProductID = sod.ProductID\n",
    "GROUP BY  p.Name\n",
    "ORDER BY 'Total Orders' DESC\n",
    "'''"
   ],
   "outputs": [],
   "metadata": {}
  },
  {
   "cell_type": "code",
   "execution_count": null,
   "source": [
    "df_q3 = pd.read_sql_query(query_3, engine)\n",
    "df_q3"
   ],
   "outputs": [],
   "metadata": {}
  },
  {
   "cell_type": "markdown",
   "source": [
    "---"
   ],
   "metadata": {}
  }
 ],
 "metadata": {
  "kernelspec": {
   "display_name": "Python [conda env:.conda-ironhack]",
   "language": "python",
   "name": "conda-env-.conda-ironhack-py"
  },
  "language_info": {
   "codemirror_mode": {
    "name": "ipython",
    "version": 3
   },
   "file_extension": ".py",
   "mimetype": "text/x-python",
   "name": "python",
   "nbconvert_exporter": "python",
   "pygments_lexer": "ipython3",
   "version": "3.7.11"
  }
 },
 "nbformat": 4,
 "nbformat_minor": 5
}